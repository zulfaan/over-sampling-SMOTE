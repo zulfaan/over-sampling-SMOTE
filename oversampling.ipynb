{
 "cells": [
  {
   "cell_type": "code",
   "execution_count": 1,
   "metadata": {},
   "outputs": [
    {
     "name": "stdout",
     "output_type": "stream",
     "text": [
      "Collecting imblearnNote: you may need to restart the kernel to use updated packages.\n",
      "\n",
      "  Using cached imblearn-0.0-py2.py3-none-any.whl (1.9 kB)\n",
      "Collecting imbalanced-learn\n",
      "  Using cached imbalanced_learn-0.9.1-py3-none-any.whl (199 kB)\n",
      "Requirement already satisfied: scipy>=1.3.2 in c:\\anaconda\\lib\\site-packages (from imbalanced-learn->imblearn) (1.4.1)\n",
      "Collecting scikit-learn>=1.1.0\n",
      "  Downloading scikit_learn-1.1.2-cp38-cp38-win_amd64.whl (7.3 MB)\n",
      "     ---------------------------------------- 7.3/7.3 MB 42.8 kB/s eta 0:00:00\n",
      "Requirement already satisfied: threadpoolctl>=2.0.0 in c:\\anaconda\\lib\\site-packages (from imbalanced-learn->imblearn) (2.1.0)\n",
      "Requirement already satisfied: numpy>=1.17.3 in c:\\anaconda\\lib\\site-packages (from imbalanced-learn->imblearn) (1.21.0)\n",
      "Collecting joblib>=1.0.0\n",
      "  Downloading joblib-1.1.0-py2.py3-none-any.whl (306 kB)\n",
      "     ------------------------------------- 307.0/307.0 kB 77.5 kB/s eta 0:00:00\n",
      "Installing collected packages: joblib, scikit-learn, imbalanced-learn, imblearn\n",
      "  Attempting uninstall: joblib\n",
      "    Found existing installation: joblib 0.17.0\n",
      "    Uninstalling joblib-0.17.0:\n",
      "      Successfully uninstalled joblib-0.17.0\n",
      "  Attempting uninstall: scikit-learn\n",
      "    Found existing installation: scikit-learn 0.23.2\n",
      "    Uninstalling scikit-learn-0.23.2:\n",
      "      Successfully uninstalled scikit-learn-0.23.2\n",
      "Successfully installed imbalanced-learn-0.9.1 imblearn-0.0 joblib-1.1.0 scikit-learn-1.1.2\n"
     ]
    }
   ],
   "source": [
    "pip install imblearn"
   ]
  },
  {
   "cell_type": "code",
   "execution_count": 19,
   "metadata": {},
   "outputs": [],
   "source": [
    "# import necessary modules \n",
    "import pandas  as pd\n",
    "import matplotlib.pyplot as plt\n",
    "import numpy as np\n",
    "from sklearn.linear_model import LogisticRegression\n",
    "from sklearn.preprocessing import StandardScaler\n",
    "from sklearn.metrics import confusion_matrix, classification_report"
   ]
  },
  {
   "cell_type": "code",
   "execution_count": 20,
   "metadata": {},
   "outputs": [
    {
     "name": "stdout",
     "output_type": "stream",
     "text": [
      "<class 'pandas.core.frame.DataFrame'>\n",
      "RangeIndex: 6718 entries, 0 to 6717\n",
      "Data columns (total 6 columns):\n",
      " #   Column    Non-Null Count  Dtype  \n",
      "---  ------    --------------  -----  \n",
      " 0   DST       6718 non-null   int64  \n",
      " 1   F10.7     6718 non-null   float64\n",
      " 2   FAI       6718 non-null   int64  \n",
      " 3   Kp        6718 non-null   int64  \n",
      " 4   S4        6718 non-null   float64\n",
      " 5   S4BINARY  6718 non-null   int64  \n",
      "dtypes: float64(2), int64(4)\n",
      "memory usage: 315.0 KB\n",
      "None\n"
     ]
    }
   ],
   "source": [
    "# load the data set\n",
    "data = pd.read_csv(\"dataneed-2.csv\")\n",
    "X = data.iloc[:,:-1].values\n",
    "y = data.iloc[:,-1:].values\n",
    "  \n",
    "# print info about columns in the dataframe\n",
    "print(data.info())"
   ]
  },
  {
   "cell_type": "code",
   "execution_count": 48,
   "metadata": {
    "scrolled": true
   },
   "outputs": [
    {
     "name": "stdout",
     "output_type": "stream",
     "text": [
      "Number X_train dataset:  (4702, 5)\n",
      "Number y_train dataset:  (4702, 1)\n",
      "Number X_test dataset:  (2016, 5)\n",
      "Number y_test dataset:  (2016, 1)\n",
      "Before OverSampling, counts of label '1': [29]\n",
      "Before OverSampling, counts of label '0': [4673] \n",
      "\n",
      "Before OverSampling, counts of label '1': [13]\n",
      "Before OverSampling, counts of label '0': [2003]\n"
     ]
    }
   ],
   "source": [
    "from sklearn.model_selection import train_test_split\n",
    "  \n",
    "# split into 70:30 ration\n",
    "X_train, X_test, y_train, y_test = train_test_split(X, y, test_size = 0.3, random_state = 0)\n",
    "  \n",
    "# describes info about train and test set\n",
    "print(\"Number X_train dataset: \", X_train.shape)\n",
    "print(\"Number y_train dataset: \", y_train.shape)\n",
    "print(\"Number X_test dataset: \", X_test.shape)\n",
    "print(\"Number y_test dataset: \", y_test.shape)\n",
    "\n",
    "print(\"Before OverSampling, counts of label '1': {}\".format(sum(y_train == 1)))\n",
    "print(\"Before OverSampling, counts of label '0': {} \\n\".format(sum(y_train == 0)))\n",
    "\n",
    "print(\"Before OverSampling, counts of label '1': {}\".format(sum(y_test == 1)))\n",
    "print(\"Before OverSampling, counts of label '0': {}\".format(sum(y_test == 0)))"
   ]
  },
  {
   "cell_type": "code",
   "execution_count": 30,
   "metadata": {},
   "outputs": [],
   "source": [
    "from imblearn.over_sampling import SMOTE"
   ]
  },
  {
   "cell_type": "code",
   "execution_count": 38,
   "metadata": {},
   "outputs": [],
   "source": [
    "sm = SMOTE(random_state = 42)"
   ]
  },
  {
   "cell_type": "code",
   "execution_count": 41,
   "metadata": {},
   "outputs": [
    {
     "name": "stdout",
     "output_type": "stream",
     "text": [
      "After OverSampling, the shape of train_X: (9346, 5)\n",
      "After OverSampling, the shape of train_y: (9346,) \n",
      "\n",
      "After OverSampling, counts of label '1': 4673\n",
      "After OverSampling, counts of label '0': 4673\n"
     ]
    }
   ],
   "source": [
    "X_train_res, y_train_res = sm.fit_resample(X_train, y_train.ravel())\n",
    "  \n",
    "print('After OverSampling, the shape of train_X: {}'.format(X_train_res.shape))\n",
    "print('After OverSampling, the shape of train_y: {} \\n'.format(y_train_res.shape))\n",
    "  \n",
    "print(\"After OverSampling, counts of label '1': {}\".format(sum(y_train_res == 1)))\n",
    "print(\"After OverSampling, counts of label '0': {}\".format(sum(y_train_res == 0)))"
   ]
  },
  {
   "cell_type": "code",
   "execution_count": 45,
   "metadata": {},
   "outputs": [],
   "source": [
    "y_train_res = y_train_res.reshape(-1, 1) # reshaping y_train to (9346,1)\n",
    "data_res = np.concatenate((X_train_res, y_train_res), axis = 1)\n",
    "np.savetxt('sample_smote.csv', data_res, delimiter=\",\")"
   ]
  },
  {
   "cell_type": "code",
   "execution_count": 46,
   "metadata": {},
   "outputs": [
    {
     "name": "stdout",
     "output_type": "stream",
     "text": [
      "After OverSampling, the shape of train_X: (4006, 5)\n",
      "After OverSampling, the shape of train_y: (4006,) \n",
      "\n",
      "After OverSampling, counts of label '1': 2003\n",
      "After OverSampling, counts of label '0': 2003\n"
     ]
    }
   ],
   "source": [
    "X_test_res, y_test_res = sm.fit_resample(X_test, y_test.ravel())\n",
    "  \n",
    "print('After OverSampling, the shape of train_X: {}'.format(X_test_res.shape))\n",
    "print('After OverSampling, the shape of train_y: {} \\n'.format(y_test_res.shape))\n",
    "  \n",
    "print(\"After OverSampling, counts of label '1': {}\".format(sum(y_test_res == 1)))\n",
    "print(\"After OverSampling, counts of label '0': {}\".format(sum(y_test_res == 0)))"
   ]
  },
  {
   "cell_type": "code",
   "execution_count": 49,
   "metadata": {},
   "outputs": [],
   "source": [
    "y_test_res = y_test_res.reshape(-1, 1) # reshaping y_train to (4006,1)\n",
    "data_res_test = np.concatenate((X_test_res, y_test_res), axis = 1)\n",
    "np.savetxt('sample_smote_test.csv', data_res_test, delimiter=\",\")"
   ]
  }
 ],
 "metadata": {
  "kernelspec": {
   "display_name": "Python 3",
   "language": "python",
   "name": "python3"
  },
  "language_info": {
   "codemirror_mode": {
    "name": "ipython",
    "version": 3
   },
   "file_extension": ".py",
   "mimetype": "text/x-python",
   "name": "python",
   "nbconvert_exporter": "python",
   "pygments_lexer": "ipython3",
   "version": "3.8.5"
  }
 },
 "nbformat": 4,
 "nbformat_minor": 4
}
